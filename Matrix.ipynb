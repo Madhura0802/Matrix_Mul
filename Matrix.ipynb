{
  "nbformat": 4,
  "nbformat_minor": 0,
  "metadata": {
    "colab": {
      "provenance": [],
      "gpuType": "T4",
      "authorship_tag": "ABX9TyM4gXqttLagmYYjOyLoEduC",
      "include_colab_link": true
    },
    "kernelspec": {
      "name": "python3",
      "display_name": "Python 3"
    },
    "language_info": {
      "name": "python"
    },
    "accelerator": "GPU",
    "gpuClass": "standard"
  },
  "cells": [
    {
      "cell_type": "markdown",
      "metadata": {
        "id": "view-in-github",
        "colab_type": "text"
      },
      "source": [
        "<a href=\"https://colab.research.google.com/github/Madhura0802/Matrix_Mul/blob/main/Matrix.ipynb\" target=\"_parent\"><img src=\"https://colab.research.google.com/assets/colab-badge.svg\" alt=\"Open In Colab\"/></a>"
      ]
    },
    {
      "cell_type": "code",
      "source": [
        "!nvcc --version"
      ],
      "metadata": {
        "colab": {
          "base_uri": "https://localhost:8080/"
        },
        "id": "Lp1Hi0QPhBZ_",
        "outputId": "7ecb727c-56e9-41a6-fc49-1cadb904a437"
      },
      "execution_count": 1,
      "outputs": [
        {
          "output_type": "stream",
          "name": "stdout",
          "text": [
            "nvcc: NVIDIA (R) Cuda compiler driver\n",
            "Copyright (c) 2005-2022 NVIDIA Corporation\n",
            "Built on Wed_Sep_21_10:33:58_PDT_2022\n",
            "Cuda compilation tools, release 11.8, V11.8.89\n",
            "Build cuda_11.8.r11.8/compiler.31833905_0\n"
          ]
        }
      ]
    },
    {
      "cell_type": "code",
      "source": [
        "code = \"\"\"\n",
        "#include <stdio.h>\n",
        "#include <stdlib.h>\n",
        "#define N 1024\n",
        "#define BLOCK_SIZE 16\n",
        "__global__ void matrixMul(int *a, int *b, int *c, int width) {\n",
        "int row = blockIdx.y * blockDim.y + threadIdx.y;\n",
        "int col = blockIdx.x * blockDim.x + threadIdx.x;\n",
        "int sum = 0;\n",
        "for (int i = 0; i < width; i++) {\n",
        "sum += a[row * width + i] * b[i * width + col];\n",
        "}\n",
        "c[row * width + col] = sum;\n",
        "}\n",
        "int main() {\n",
        "int *a, *b, *c;\n",
        "int *d_a, *d_b, *d_c;\n",
        "int size = N * N * sizeof(int);\n",
        "// Allocate memory on host\n",
        "a = (int*)malloc(size);\n",
        "b = (int*)malloc(size);\n",
        "c = (int*)malloc(size);\n",
        "// Initialize matrices\n",
        "for (int i = 0; i < N; i++) {\n",
        "for (int j = 0; j < N; j++) {\n",
        "a[i * N + j] = i + j;\n",
        "b[i * N + j] = i - j;\n",
        "} }\n",
        "// Allocate memory on device\n",
        "cudaMalloc(&d_a, size);\n",
        "cudaMalloc(&d_b, size);\n",
        "cudaMalloc(&d_c, size);\n",
        "// Copy data from host to device\n",
        "cudaMemcpy(d_a, a, size, cudaMemcpyHostToDevice);\n",
        "cudaMemcpy(d_b, b, size, cudaMemcpyHostToDevice);\n",
        "// Launch kernel with 2D grid and 2D block\n",
        "dim3 dimBlock(BLOCK_SIZE, BLOCK_SIZE);\n",
        "dim3 dimGrid((N + dimBlock.x - 1) / dimBlock.x, (N + dimBlock.y - 1) / dimBlock.y);\n",
        "matrixMul<<<dimGrid, dimBlock>>>(d_a, d_b, d_c, N);\n",
        "// Copy result from device to host\n",
        "cudaMemcpy(c, d_c, size, cudaMemcpyDeviceToHost);\n",
        "// Print first and last elements of result\n",
        "printf(\"c[0][0] = %d, c[%d][%d] = %d\", c[0], N-1, N-1, c[(N-1) * N + (N-1)]);\n",
        "// Free memory\n",
        "free(a);\n",
        "free(b);\n",
        "free(c);\n",
        "cudaFree(d_a);\n",
        "cudaFree(d_b);\n",
        "cudaFree(d_c);\n",
        "return 0;\n",
        "}\n",
        "\"\"\""
      ],
      "metadata": {
        "id": "Hz7rXm9uhGR5"
      },
      "execution_count": 2,
      "outputs": []
    },
    {
      "cell_type": "code",
      "source": [
        "text_file = open(\"Matrix.cu\",\"w\")\n",
        "text_file.write(code)\n",
        "text_file.close()"
      ],
      "metadata": {
        "id": "V0LWd_v4hMdq"
      },
      "execution_count": 3,
      "outputs": []
    },
    {
      "cell_type": "code",
      "source": [
        "!nvcc Matrix.cu"
      ],
      "metadata": {
        "id": "CzI9c6BohSOE"
      },
      "execution_count": 4,
      "outputs": []
    },
    {
      "cell_type": "code",
      "source": [
        "!./a.out"
      ],
      "metadata": {
        "colab": {
          "base_uri": "https://localhost:8080/"
        },
        "id": "VFl58nX9ha6d",
        "outputId": "64329502-69a7-4ea1-d7fe-0315452f5654"
      },
      "execution_count": 5,
      "outputs": [
        {
          "output_type": "stream",
          "name": "stdout",
          "text": [
            "c[0][0] = 357389824, c[1023][1023] = -714255872"
          ]
        }
      ]
    },
    {
      "cell_type": "code",
      "source": [
        "!nvprof ./a.out"
      ],
      "metadata": {
        "colab": {
          "base_uri": "https://localhost:8080/"
        },
        "id": "cFPgtYLNhdsQ",
        "outputId": "4dcda12a-8e46-42b5-bcfc-ceea5814df54"
      },
      "execution_count": 6,
      "outputs": [
        {
          "output_type": "stream",
          "name": "stdout",
          "text": [
            "==805== NVPROF is profiling process 805, command: ./a.out\n",
            "==805== Profiling application: ./a.out\n",
            "c[0][0] = 357389824, c[1023][1023] = -714255872==805== Profiling result:\n",
            "            Type  Time(%)      Time     Calls       Avg       Min       Max  Name\n",
            " GPU activities:   69.86%  9.1119ms         1  9.1119ms  9.1119ms  9.1119ms  matrixMul(int*, int*, int*, int)\n",
            "                   17.34%  2.2618ms         1  2.2618ms  2.2618ms  2.2618ms  [CUDA memcpy DtoH]\n",
            "                   12.80%  1.6694ms         2  834.72us  809.25us  860.19us  [CUDA memcpy HtoD]\n",
            "      API calls:   90.03%  159.75ms         3  53.251ms  102.37us  159.55ms  cudaMalloc\n",
            "                    8.78%  15.589ms         3  5.1963ms  1.0342ms  13.515ms  cudaMemcpy\n",
            "                    0.69%  1.2220ms         1  1.2220ms  1.2220ms  1.2220ms  cuDeviceGetPCIBusId\n",
            "                    0.35%  628.94us         3  209.65us  194.18us  222.26us  cudaFree\n",
            "                    0.10%  178.95us       101  1.7710us     181ns  72.262us  cuDeviceGetAttribute\n",
            "                    0.02%  38.844us         1  38.844us  38.844us  38.844us  cudaLaunchKernel\n",
            "                    0.02%  32.409us         1  32.409us  32.409us  32.409us  cuDeviceGetName\n",
            "                    0.00%  2.1670us         3     722ns     278ns  1.5530us  cuDeviceGetCount\n",
            "                    0.00%  1.8230us         2     911ns     205ns  1.6180us  cuDeviceGet\n",
            "                    0.00%  1.0760us         1  1.0760us  1.0760us  1.0760us  cuDeviceTotalMem\n",
            "                    0.00%     551ns         1     551ns     551ns     551ns  cuModuleGetLoadingMode\n",
            "                    0.00%     344ns         1     344ns     344ns     344ns  cuDeviceGetUuid\n"
          ]
        }
      ]
    }
  ]
}