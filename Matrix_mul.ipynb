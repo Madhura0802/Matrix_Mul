{
  "nbformat": 4,
  "nbformat_minor": 0,
  "metadata": {
    "colab": {
      "provenance": [],
      "gpuType": "T4",
      "authorship_tag": "ABX9TyOe2W1b4EwTif9jtp5IF2+y",
      "include_colab_link": true
    },
    "kernelspec": {
      "name": "python3",
      "display_name": "Python 3"
    },
    "language_info": {
      "name": "python"
    },
    "accelerator": "GPU",
    "gpuClass": "standard"
  },
  "cells": [
    {
      "cell_type": "markdown",
      "metadata": {
        "id": "view-in-github",
        "colab_type": "text"
      },
      "source": [
        "<a href=\"https://colab.research.google.com/github/Madhura0802/Matrix_Mul/blob/main/Matrix_mul.ipynb\" target=\"_parent\"><img src=\"https://colab.research.google.com/assets/colab-badge.svg\" alt=\"Open In Colab\"/></a>"
      ]
    },
    {
      "cell_type": "code",
      "execution_count": 1,
      "metadata": {
        "colab": {
          "base_uri": "https://localhost:8080/"
        },
        "id": "YmrDx9UA2H0U",
        "outputId": "15a46eac-efb0-4bba-9c68-fe59859dd69f"
      },
      "outputs": [
        {
          "output_type": "stream",
          "name": "stdout",
          "text": [
            "nvcc: NVIDIA (R) Cuda compiler driver\n",
            "Copyright (c) 2005-2022 NVIDIA Corporation\n",
            "Built on Wed_Sep_21_10:33:58_PDT_2022\n",
            "Cuda compilation tools, release 11.8, V11.8.89\n",
            "Build cuda_11.8.r11.8/compiler.31833905_0\n"
          ]
        }
      ],
      "source": [
        "!nvcc --version"
      ]
    },
    {
      "cell_type": "code",
      "source": [
        "code = \"\"\"\n",
        "#include <stdio.h>\n",
        "#include <stdlib.h>\n",
        "#define N 1024\n",
        "#define BLOCK_SIZE 16\n",
        "__global__ void matrixMul(int *a, int *b, int *c, int width) {\n",
        "int row = blockIdx.y * blockDim.y + threadIdx.y;\n",
        "int col = blockIdx.x * blockDim.x + threadIdx.x;\n",
        "int sum = 0;\n",
        "for (int i = 0; i < width; i++) {\n",
        "sum += a[row * width + i] * b[i * width + col];\n",
        "}\n",
        "c[row * width + col] = sum;\n",
        "}\n",
        "int main() {\n",
        "int *a, *b, *c;\n",
        "int *d_a, *d_b, *d_c;\n",
        "int size = N * N * sizeof(int);\n",
        "// Allocate memory on host\n",
        "a = (int*)malloc(size);\n",
        "b = (int*)malloc(size);\n",
        "c = (int*)malloc(size);\n",
        "// Initialize matrices\n",
        "for (int i = 0; i < N; i++) {\n",
        "for (int j = 0; j < N; j++) {\n",
        "a[i * N + j] = i + j;\n",
        "b[i * N + j] = i - j;\n",
        "}\n",
        "}\n",
        "// Allocate memory on device\n",
        "cudaMalloc(&d_a, size);\n",
        "cudaMalloc(&d_b, size);\n",
        "cudaMalloc(&d_c, size);\n",
        "// Copy data from host to device\n",
        "cudaMemcpy(d_a, a, size, cudaMemcpyHostToDevice);\n",
        "cudaMemcpy(d_b, b, size, cudaMemcpyHostToDevice);\n",
        "// Launch kernel with 2D grid and 2D block\n",
        "dim3 dimBlock(BLOCK_SIZE, BLOCK_SIZE);\n",
        "dim3 dimGrid((N + dimBlock.x - 1) / dimBlock.x, (N + dimBlock.y - 1) / dimBlock.y);\n",
        "matrixMul<<<dimGrid, dimBlock>>>(d_a, d_b, d_c, N);\n",
        "// Copy result from device to host\n",
        "cudaMemcpy(c, d_c, size, cudaMemcpyDeviceToHost);\n",
        "// Print first and last elements of result\n",
        "printf(\"c[0][0] = %d, c[%d][%d] = %d\", c[0], N-1, N-1, c[(N-1) * N + (N-1)]);\n",
        "// Free memory\n",
        "free(a);\n",
        "free(b);\n",
        "free(c);\n",
        "cudaFree(d_a);\n",
        "cudaFree(d_b);\n",
        "cudaFree(d_c);\n",
        "return 0;\n",
        "}\n",
        "\"\"\"\n"
      ],
      "metadata": {
        "id": "jJrMg-Fp2Z7a"
      },
      "execution_count": 2,
      "outputs": []
    },
    {
      "cell_type": "code",
      "source": [
        "text_file = open(\"Matrix-mul.cu\",\"w\")\n",
        "text_file.write(code)\n",
        "text_file.close()"
      ],
      "metadata": {
        "id": "5lZhU-DQ2b1M"
      },
      "execution_count": 3,
      "outputs": []
    },
    {
      "cell_type": "code",
      "source": [
        "!nvcc Matrix-mul.cu"
      ],
      "metadata": {
        "id": "faq2T2_82i4Z"
      },
      "execution_count": 4,
      "outputs": []
    },
    {
      "cell_type": "code",
      "source": [
        "!./a.out"
      ],
      "metadata": {
        "colab": {
          "base_uri": "https://localhost:8080/"
        },
        "id": "L7GTw5ns2wBn",
        "outputId": "1ad9b9f9-87da-4798-cc06-403a7acd1a72"
      },
      "execution_count": 5,
      "outputs": [
        {
          "output_type": "stream",
          "name": "stdout",
          "text": [
            "c[0][0] = 357389824, c[1023][1023] = -714255872"
          ]
        }
      ]
    },
    {
      "cell_type": "code",
      "source": [
        "!nvprof ./a.out"
      ],
      "metadata": {
        "colab": {
          "base_uri": "https://localhost:8080/"
        },
        "id": "h9si-6um20Hy",
        "outputId": "24bb9598-0efd-4481-b870-4dc797373f8c"
      },
      "execution_count": 6,
      "outputs": [
        {
          "output_type": "stream",
          "name": "stdout",
          "text": [
            "==906== NVPROF is profiling process 906, command: ./a.out\n",
            "==906== Profiling application: ./a.out\n",
            "c[0][0] = 357389824, c[1023][1023] = -714255872==906== Profiling result:\n",
            "            Type  Time(%)      Time     Calls       Avg       Min       Max  Name\n",
            " GPU activities:   74.01%  9.0894ms         1  9.0894ms  9.0894ms  9.0894ms  matrixMul(int*, int*, int*, int)\n",
            "                   13.07%  1.6056ms         1  1.6056ms  1.6056ms  1.6056ms  [CUDA memcpy DtoH]\n",
            "                   12.92%  1.5867ms         2  793.34us  780.06us  806.62us  [CUDA memcpy HtoD]\n",
            "      API calls:   92.93%  211.38ms         3  70.460ms  71.354us  211.22ms  cudaMalloc\n",
            "                    6.17%  14.041ms         3  4.6805ms  978.02us  12.076ms  cudaMemcpy\n",
            "                    0.56%  1.2627ms         1  1.2627ms  1.2627ms  1.2627ms  cuDeviceGetPCIBusId\n",
            "                    0.26%  582.39us         3  194.13us  118.16us  239.80us  cudaFree\n",
            "                    0.05%  121.70us       101  1.2040us     125ns  51.673us  cuDeviceGetAttribute\n",
            "                    0.01%  32.740us         1  32.740us  32.740us  32.740us  cuDeviceGetName\n",
            "                    0.01%  27.244us         1  27.244us  27.244us  27.244us  cudaLaunchKernel\n",
            "                    0.00%  1.6760us         3     558ns     212ns  1.1780us  cuDeviceGetCount\n",
            "                    0.00%     762ns         2     381ns     288ns     474ns  cuDeviceGet\n",
            "                    0.00%     489ns         1     489ns     489ns     489ns  cuDeviceTotalMem\n",
            "                    0.00%     453ns         1     453ns     453ns     453ns  cuModuleGetLoadingMode\n",
            "                    0.00%     305ns         1     305ns     305ns     305ns  cuDeviceGetUuid\n"
          ]
        }
      ]
    }
  ]
}